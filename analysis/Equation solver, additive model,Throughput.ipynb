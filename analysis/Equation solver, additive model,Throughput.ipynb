{
 "cells": [
  {
   "cell_type": "code",
   "execution_count": 129,
   "metadata": {},
   "outputs": [
    {
     "name": "stdout",
     "output_type": "stream",
     "text": [
      "Percentage middlware=23.841733036935235\n",
      "Persentage server=3.3684379416431103\n",
      "Percentage workers=64.29160150273547\n",
      "Percentage middleware+server=1.7122057815529432\n",
      "Percentage middleware+workers=0.26387928104823727\n",
      "Percentage server+workers=5.8744575454328185\n",
      "Percentage of all factors=0.632126636955034\n",
      "Percentage of errors=0.015558273697146177\n"
     ]
    }
   ],
   "source": [
    "import pandas as pd\n",
    "import csv\n",
    "import numpy as np\n",
    "file1_1 = pd.read_csv(\"/home/anastasiia/asl-project-2019-ruzhanskaia/report_src/part3_cl_TR_value_file.txt\", header=None, delimiter=' ')\n",
    "file3_1 = pd.read_csv(\"/home/anastasiia/asl-project-2019-ruzhanskaia/report_src/part4_cl_TR_value_file.txt\", header=None, delimiter=' ')\n",
    "file1_2 = pd.read_csv(\"/home/anastasiia/asl-project-2019-ruzhanskaia/report_src/part5_cl_TR_value_file.txt\", header=None, delimiter=' ')\n",
    "file3_2 = pd.read_csv(\"/home/anastasiia/asl-project-2019-ruzhanskaia/report_src/part6_cl_TR_value_file.txt\", header=None, delimiter=' ')\n",
    "\n",
    "for i in [0, 1, 2]:\n",
    "    file1_1[i] = file1_1[i].astype(int)\n",
    "    file3_1[i] = file3_1[i].astype(int)\n",
    "    file1_2[i] = file1_2[i].astype(int)\n",
    "    file3_2[i] = file3_2[i].astype(int)\n",
    "    \n",
    "for i in [3, 4, 5, 6]:\n",
    "    file1_1[i] = file1_1[i].astype(float)\n",
    "    file3_1[i] = file3_1[i].astype(float)\n",
    "    file1_2[i] = file1_2[i].astype(float)\n",
    "    file3_2[i] = file3_2[i].astype(float)\n",
    "\n",
    "#file1_1 - mid 1 server 1 -1 -1\n",
    "#file3_1 = mid 1 server 3 -1  1\n",
    "#file1_2 = mid 2 server 1  1 -1\n",
    "#file3_2 = mid 2 server 3  1  1\n",
    "#w 8 = -1\n",
    "#w 32 = 1\n",
    "\n",
    "# -1 -1 -1 \n",
    "str1 = file1_1[(file1_1[2] == 32) &\n",
    "                 (file1_1[1] == 256) & \n",
    "                 (file1_1[0] == 8)]\n",
    "# 1 -1  -1\n",
    "str2 = file1_2[(file1_1[2] == 32) &\n",
    "                 (file1_1[1] == 256) & \n",
    "                 (file1_1[0] == 8)]\n",
    "\n",
    "# -1  1 -1\n",
    "str3 = file3_1[(file1_1[2] == 32) &\n",
    "                 (file1_1[1] == 256) & \n",
    "                 (file1_1[0] == 8)]\n",
    "# 1  1  -1\n",
    "str4 = file3_2[(file1_1[2] == 32) &\n",
    "                 (file1_1[1] == 256) & \n",
    "                 (file1_1[0] == 8)]\n",
    "\n",
    "# -1 -1 1\n",
    "str5 = file1_1[(file1_1[2] == 32) &\n",
    "                 (file1_1[1] == 256) & \n",
    "                 (file1_1[0] == 32)]\n",
    "# 1 -1  1\n",
    "str6 = file1_2[(file1_1[2] == 32) &\n",
    "                 (file1_1[1] == 256) & \n",
    "                 (file1_1[0] == 32)]\n",
    "\n",
    "# -1  1 1\n",
    "str7 = file3_1[(file1_1[2] == 32) &\n",
    "                 (file1_1[1] == 256) & \n",
    "                 (file1_1[0] == 32)]\n",
    "\n",
    "# 1 1 1\n",
    "str8 = file3_2[(file1_1[2] == 32) &\n",
    "                 (file1_1[1] == 256) & \n",
    "                 (file1_1[0] == 32)]\n",
    "\n",
    "y0 = float(str1[3])\n",
    "y1 = float(str2[3])\n",
    "y2 = float(str3[3])\n",
    "y3 = float(str4[3])\n",
    "y4 = float(str5[3])\n",
    "y5 = float(str6[3])\n",
    "y6 = float(str7[3])\n",
    "y7 = float(str8[3])\n",
    "\n",
    "\n",
    "I = [1, 1, 1, 1, 1, 1, 1, 1]\n",
    "A = [-1, 1, -1, 1, -1, 1, -1, 1]\n",
    "B = [-1, -1, 1, 1, -1, -1, 1, 1]\n",
    "C = [-1, -1, -1, -1, 1, 1, 1, 1]\n",
    "AB = [1, -1, -1, 1, 1, -1, -1, 1]\n",
    "AC = [1, -1, 1, -1, -1, 1, -1, 1]\n",
    "BC = [1, 1, -1, -1, -1, -1, 1, 1]\n",
    "ABC = [-1, 1, 1, -1, 1, -1, -1, 1]\n",
    "y = [y0, y1, y2, y3, y4, y5, y6, y7]\n",
    "q0 = sum(np.multiply(y, I) / 8)\n",
    "qA = sum(np.multiply(y, A) / 8)\n",
    "qB = sum(np.multiply(y, B) / 8)\n",
    "qC = sum(np.multiply(y, C) / 8)\n",
    "qAB = sum(np.multiply(y, AB) / 8)\n",
    "qAC = sum(np.multiply(y, AC) / 8)\n",
    "qBC = sum(np.multiply(y, BC) / 8)\n",
    "qABC = sum(np.multiply(y, ABC) / 8)\n",
    "\n",
    "SSY = 0\n",
    "for i in [4, 5, 6]:\n",
    "    SSY += (float(str1[i]) * float(str1[i]) + float(str2[i]) * float(str2[i]) +\n",
    "            float(str3[i]) * float(str3[i]) + float(str4[i]) * float(str4[i]) +\n",
    "            float(str5[i]) * float(str5[i]) + float(str6[i]) * float(str6[i]) +\n",
    "            float(str7[i]) * float(str7[i]) + float(str8[i]) * float(str8[i]))\n",
    "SSA = 24 * qA * qA\n",
    "SSB = 24 * qB * qB\n",
    "SSC = 24 * qC * qC\n",
    "SSAB = 24 * qAB * qAB\n",
    "SSAC = 24 * qAC * qAC\n",
    "SSBC = 24 * qBC * qBC\n",
    "SSABC = 24 * qABC * qABC\n",
    "SS0 = 24 * q0 * q0\n",
    "SST = SSY - SS0\n",
    "SSE = SST - (SSA + SSB + SSC + SSAB + SSAC + SSBC + SSABC)\n",
    "print(\"Percentage middlware=\" + str(SSA * 100 / SST))\n",
    "print(\"Persentage server=\" + str(SSB * 100 / SST))\n",
    "print(\"Percentage workers=\" + str(SSC * 100 / SST))\n",
    "print(\"Percentage middleware+server=\" + str(SSAB * 100 / SST))\n",
    "print(\"Percentage middleware+workers=\" + str(SSAC * 100 / SST))\n",
    "print(\"Percentage server+workers=\" + str(SSBC * 100 / SST))\n",
    "print(\"Percentage of all factors=\" + str(SSABC * 100 / SST))\n",
    "print(\"Percentage of errors=\" + str(SSE * 100 / SST))"
   ]
  },
  {
   "cell_type": "code",
   "execution_count": 130,
   "metadata": {},
   "outputs": [
    {
     "name": "stdout",
     "output_type": "stream",
     "text": [
      "   0    1   2            3          4           5          6\n",
      "7  8  256  32  8062.576667 -52.766667  120.333333 -67.566667\n"
     ]
    }
   ],
   "source": [
    "for i in [4, 5, 6]:\n",
    "    file1_1[i] = file1_1[i] - file1_1[3]\n",
    "    file3_1[i] = file3_1[i] - file3_1[3]\n",
    "    file1_2[i] = file1_2[i] - file1_2[3]\n",
    "    file3_2[i] = file3_2[i] - file3_2[3]\n",
    "    \n",
    "str1 = file1_1[(file1_1[2] == 32) &\n",
    "                 (file1_1[1] == 256) & \n",
    "                 (file1_1[0] == 8)]\n",
    "# 1 -1  -1\n",
    "str2 = file1_2[(file1_1[2] == 32) &\n",
    "                 (file1_1[1] == 256) & \n",
    "                 (file1_1[0] == 8)]\n",
    "\n",
    "# -1  1 -1\n",
    "str3 = file3_1[(file1_1[2] == 32) &\n",
    "                 (file1_1[1] == 256) & \n",
    "                 (file1_1[0] == 8)]\n",
    "# 1  1  -1\n",
    "str4 = file3_2[(file1_1[2] == 32) &\n",
    "                 (file1_1[1] == 256) & \n",
    "                 (file1_1[0] == 8)]\n",
    "\n",
    "# -1 -1 1\n",
    "str5 = file1_1[(file1_1[2] == 32) &\n",
    "                 (file1_1[1] == 256) & \n",
    "                 (file1_1[0] == 32)]\n",
    "# 1 -1  1\n",
    "str6 = file1_2[(file1_1[2] == 32) &\n",
    "                 (file1_1[1] == 256) & \n",
    "                 (file1_1[0] == 32)]\n",
    "\n",
    "# -1  1 1\n",
    "str7 = file3_1[(file1_1[2] == 32) &\n",
    "                 (file1_1[1] == 256) & \n",
    "                 (file1_1[0] == 32)]\n",
    "\n",
    "# 1 1 1\n",
    "str8 = file3_2[(file1_1[2] == 32) &\n",
    "                 (file1_1[1] == 256) & \n",
    "                 (file1_1[0] == 32)]\n",
    "\n",
    "print(str1)"
   ]
  },
  {
   "cell_type": "code",
   "execution_count": 131,
   "metadata": {},
   "outputs": [
    {
     "name": "stdout",
     "output_type": "stream",
     "text": [
      "[ 8062.57666667 13260.65        6577.10333333 13159.60666667\n",
      " 15984.20333333 20423.60333333 18890.15333333 29001.5       ]\n"
     ]
    },
    {
     "data": {
      "image/png": "[encoded data removed]",
      "text/plain": [
       "<Figure size 576x360 with 1 Axes>"
      ]
     },
     "metadata": {
      "needs_background": "light"
     },
     "output_type": "display_data"
    }
   ],
   "source": [
    "import numpy as np\n",
    "import matplotlib.pyplot as plt\n",
    "\n",
    "x1 = np.array([float(str1[4]), float(str2[4]), float(str3[4]), float(str4[4]), \n",
    "     float(str5[4]), float(str6[4]), float(str7[4]), float(str8[4])])\n",
    "x2 = np.array([float(str1[5]), float(str2[5]), float(str3[5]), float(str4[5]), \n",
    "     float(str5[5]), float(str6[5]), float(str7[5]), float(str8[5])])\n",
    "x3 = np.array([float(str1[6]), float(str2[6]), float(str3[6]), float(str4[6]), \n",
    "     float(str5[6]), float(str6[6]), float(str7[6]), float(str8[6])])\n",
    "\n",
    "y = np.array([y0, y1, y2, y3, y4, y5, y6, y7])\n",
    "print(y)\n",
    "\n",
    "# Plot\n",
    "plt.figure(figsize=(8, 5))\n",
    "plt.scatter(y, x1)\n",
    "plt.scatter(y, x2)\n",
    "plt.scatter(y, x3)\n",
    "plt.title('Residuals versus throughput values')\n",
    "plt.tight_layout(0)\n",
    "plt.xlabel('Residuals')\n",
    "plt.ylabel('Predicted throughput')\n",
    "plt.savefig(\"additive_residuals_throughput.pdf\")\n",
    "\n",
    "plt.show()"
   ]
  },
  {
   "cell_type": "code",
   "execution_count": 132,
   "metadata": {},
   "outputs": [
    {
     "data": {
      "image/png": "[encoded data removed]",
      "text/plain": [
       "<Figure size 576x360 with 1 Axes>"
      ]
     },
     "metadata": {
      "needs_background": "light"
     },
     "output_type": "display_data"
    }
   ],
   "source": [
    "x = np.concatenate((x1, x2, x3), axis=None)\n",
    "x = np.sort(x, axis=None)  \n",
    "import pylab \n",
    "import scipy.stats as stats\n",
    "\n",
    "pylab.figure(figsize=(8, 5))\n",
    "stats.probplot(x, dist=\"norm\", plot=pylab)\n",
    "pylab.title(\"Normal quantile-quantile plot for throughput\")\n",
    "pylab.xlabel(\"Residual quantile\")\n",
    "pylab.ylabel(\"Normal quantile\")\n",
    "pylab.tight_layout(0)\n",
    "pylab.savefig(\"additive_quantile_throughput.pdf\")\n",
    "pylab.show()"
   ]
  },
  {
   "cell_type": "code",
   "execution_count": null,
   "metadata": {},
   "outputs": [],
   "source": []
  }
 ],
 "metadata": {
  "kernelspec": {
   "display_name": "Python 3",
   "language": "python",
   "name": "python3"
  },
  "language_info": {
   "codemirror_mode": {
    "name": "ipython",
    "version": 3
   },
   "file_extension": ".py",
   "mimetype": "text/x-python",
   "name": "python",
   "nbconvert_exporter": "python",
   "pygments_lexer": "ipython3",
   "version": "3.5.2"
  }
 },
 "nbformat": 4,
 "nbformat_minor": 2
}
