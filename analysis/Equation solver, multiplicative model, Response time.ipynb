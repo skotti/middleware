{
 "cells": [
  {
   "cell_type": "code",
   "execution_count": 16,
   "metadata": {},
   "outputs": [
    {
     "name": "stdout",
     "output_type": "stream",
     "text": [
      "[1.3767229455271004, 1.1605647331829247, 1.4631316053848782, 1.1646624709647193, 1.0794037055691426, 0.9750322755211055, 1.0067040134663074, 0.8205273734100023]\n",
      "Percentage middlware=26.00977099243562\n",
      "Persentage server=0.7496889073392002\n",
      "Percentage workers=66.08293472630567\n",
      "Percentage middleware+server=1.0805828251964393\n",
      "Percentage middleware+workers=2.0144611795788787\n",
      "Percentage server+workers=4.049673363773171\n",
      "Percentage of all factors=1.0260349377344763e-05\n",
      "Percentage of errors=0.012877745021667037\n"
     ]
    }
   ],
   "source": [
    "import pandas as pd\n",
    "import csv\n",
    "import numpy as np\n",
    "import math\n",
    "file1_1 = pd.read_csv(\"/home/anastasiia/asl-project-2019-ruzhanskaia/report_src/part3_cl_RT_value_file.txt\", header=None, delimiter=' ')\n",
    "file3_1 = pd.read_csv(\"/home/anastasiia/asl-project-2019-ruzhanskaia/report_src/part4_cl_RT_value_file.txt\", header=None, delimiter=' ')\n",
    "file1_2 = pd.read_csv(\"/home/anastasiia/asl-project-2019-ruzhanskaia/report_src/part5_cl_RT_value_file.txt\", header=None, delimiter=' ')\n",
    "file3_2 = pd.read_csv(\"/home/anastasiia/asl-project-2019-ruzhanskaia/report_src/part6_cl_RT_value_file.txt\", header=None, delimiter=' ')\n",
    "\n",
    "for i in [0, 1, 2]:\n",
    "    file1_1[i] = file1_1[i].astype(int)\n",
    "    file3_1[i] = file3_1[i].astype(int)\n",
    "    file1_2[i] = file1_2[i].astype(int)\n",
    "    file3_2[i] = file3_2[i].astype(int)\n",
    "    \n",
    "for i in [3, 4, 5, 6]:\n",
    "    file1_1[i] = file1_1[i].astype(float)\n",
    "    file3_1[i] = file3_1[i].astype(float)\n",
    "    file1_2[i] = file1_2[i].astype(float)\n",
    "    file3_2[i] = file3_2[i].astype(float)\n",
    "    \n",
    "for i in [4, 5, 6]:\n",
    "    file1_1[i] = np.log10(file1_1[i])\n",
    "    file3_1[i] = np.log10(file3_1[i])\n",
    "    file1_2[i] = np.log10(file1_2[i])\n",
    "    file3_2[i] = np.log10(file3_2[i])\n",
    "\n",
    "file1_1[7] = file1_1[[4, 5, 6]].mean(axis = 1)\n",
    "file3_1[7] = file3_1[[4, 5, 6]].mean(axis = 1)\n",
    "file1_2[7] = file1_2[[4, 5, 6]].mean(axis = 1)\n",
    "file3_2[7] = file3_2[[4, 5, 6]].mean(axis = 1)\n",
    "#file1_1 - mid 1 server 1 -1 -1\n",
    "#file3_1 = mid 1 server 3 -1  1\n",
    "#file1_2 = mid 2 server 1  1 -1\n",
    "#file3_2 = mid 2 server 3  1  1\n",
    "#w 8 = -1\n",
    "#w 32 = 1\n",
    "\n",
    "# -1 -1 -1 \n",
    "str1 = file1_1[(file1_1[2] == 32) &\n",
    "                 (file1_1[1] == 256) & \n",
    "                 (file1_1[0] == 8)]\n",
    "# 1 -1  -1\n",
    "str2 = file1_2[(file1_1[2] == 32) &\n",
    "                 (file1_1[1] == 256) & \n",
    "                 (file1_1[0] == 8)]\n",
    "\n",
    "# -1  1 -1\n",
    "str3 = file3_1[(file1_1[2] == 32) &\n",
    "                 (file1_1[1] == 256) & \n",
    "                 (file1_1[0] == 8)]\n",
    "# 1  1  -1\n",
    "str4 = file3_2[(file1_1[2] == 32) &\n",
    "                 (file1_1[1] == 256) & \n",
    "                 (file1_1[0] == 8)]\n",
    "\n",
    "# -1 -1 1\n",
    "str5 = file1_1[(file1_1[2] == 32) &\n",
    "                 (file1_1[1] == 256) & \n",
    "                 (file1_1[0] == 32)]\n",
    "# 1 -1  1\n",
    "str6 = file1_2[(file1_1[2] == 32) &\n",
    "                 (file1_1[1] == 256) & \n",
    "                 (file1_1[0] == 32)]\n",
    "\n",
    "# -1  1 1\n",
    "str7 = file3_1[(file1_1[2] == 32) &\n",
    "                 (file1_1[1] == 256) & \n",
    "                 (file1_1[0] == 32)]\n",
    "\n",
    "# 1 1 1\n",
    "str8 = file3_2[(file1_1[2] == 32) &\n",
    "                 (file1_1[1] == 256) & \n",
    "                 (file1_1[0] == 32)]\n",
    "\n",
    "y0 = float(str1[7])\n",
    "y1 = float(str2[7])\n",
    "y2 = float(str3[7])\n",
    "y3 = float(str4[7])\n",
    "y4 = float(str5[7])\n",
    "y5 = float(str6[7])\n",
    "y6 = float(str7[7])\n",
    "y7 = float(str8[7])\n",
    "\n",
    "\n",
    "I = [1, 1, 1, 1, 1, 1, 1, 1]\n",
    "A = [-1, 1, -1, 1, -1, 1, -1, 1]\n",
    "B = [-1, -1, 1, 1, -1, -1, 1, 1]\n",
    "C = [-1, -1, -1, -1, 1, 1, 1, 1]\n",
    "AB = [1, -1, -1, 1, 1, -1, -1, 1]\n",
    "AC = [1, -1, 1, -1, -1, 1, -1, 1]\n",
    "BC = [1, 1, -1, -1, -1, -1, 1, 1]\n",
    "ABC = [-1, 1, 1, -1, 1, -1, -1, 1]\n",
    "y = [y0, y1, y2, y3, y4, y5, y6, y7]\n",
    "print (y)\n",
    "q0 = sum(np.multiply(y, I) / 8)\n",
    "qA = sum(np.multiply(y, A) / 8)\n",
    "qB = sum(np.multiply(y, B) / 8)\n",
    "qC = sum(np.multiply(y, C) / 8)\n",
    "qAB = sum(np.multiply(y, AB) / 8)\n",
    "qAC = sum(np.multiply(y, AC) / 8)\n",
    "qBC = sum(np.multiply(y, BC) / 8)\n",
    "qABC = sum(np.multiply(y, ABC) / 8)\n",
    "\n",
    "u0 = pow(10, q0)\n",
    "uA = pow(10, qA)\n",
    "uB = pow(10, qB)\n",
    "uC = pow(10, qC)\n",
    "uAB = pow(10, qAB)\n",
    "uAC = pow(10, qAC)\n",
    "uBC = pow(10, qBC)\n",
    "uABC = pow(10, qABC)\n",
    "\n",
    "SSY = 0\n",
    "for i in [4, 5, 6]:\n",
    "    SSY += (float(str1[i]) * float(str1[i]) + float(str2[i]) * float(str2[i]) +\n",
    "            float(str3[i]) * float(str3[i]) + float(str4[i]) * float(str4[i]) +\n",
    "            float(str5[i]) * float(str5[i]) + float(str6[i]) * float(str6[i]) +\n",
    "            float(str7[i]) * float(str7[i]) + float(str8[i]) * float(str8[i]))\n",
    "SSA = 24 * qA * qA\n",
    "SSB = 24 * qB * qB\n",
    "SSC = 24 * qC * qC\n",
    "SSAB = 24 * qAB * qAB\n",
    "SSAC = 24 * qAC * qAC\n",
    "SSBC = 24 * qBC * qBC\n",
    "SSABC = 24 * qABC * qABC\n",
    "SS0 = 24 * q0 * q0\n",
    "SST = SSY - SS0\n",
    "SSE = SST - (SSA + SSB + SSC + SSAB + SSAC + SSBC + SSABC)\n",
    "print(\"Percentage middlware=\" + str(SSA * 100 / SST))\n",
    "print(\"Persentage server=\" + str(SSB * 100 / SST))\n",
    "print(\"Percentage workers=\" + str(SSC * 100 / SST))\n",
    "print(\"Percentage middleware+server=\" + str(SSAB * 100 / SST))\n",
    "print(\"Percentage middleware+workers=\" + str(SSAC * 100 / SST))\n",
    "print(\"Percentage server+workers=\" + str(SSBC * 100 / SST))\n",
    "print(\"Percentage of all factors=\" + str(SSABC * 100 / SST))\n",
    "print(\"Percentage of errors=\" + str(SSE * 100 / SST))"
   ]
  },
  {
   "cell_type": "code",
   "execution_count": 17,
   "metadata": {},
   "outputs": [
    {
     "name": "stdout",
     "output_type": "stream",
     "text": [
      "   0    1   2          3         4         5         6         7\n",
      "7  8  256  32  23.809323  0.002834 -0.006463  0.003628  1.376723\n"
     ]
    }
   ],
   "source": [
    "for i in [4, 5, 6]:\n",
    "    file1_1[i] = file1_1[i] - file1_1[7]\n",
    "    file3_1[i] = file3_1[i] - file3_1[7]\n",
    "    file1_2[i] = file1_2[i] - file1_2[7]\n",
    "    file3_2[i] = file3_2[i] - file3_2[7]\n",
    "    \n",
    "str1 = file1_1[(file1_1[2] == 32) &\n",
    "                 (file1_1[1] == 256) & \n",
    "                 (file1_1[0] == 8)]\n",
    "# 1 -1  -1\n",
    "str2 = file1_2[(file1_1[2] == 32) &\n",
    "                 (file1_1[1] == 256) & \n",
    "                 (file1_1[0] == 8)]\n",
    "\n",
    "# -1  1 -1\n",
    "str3 = file3_1[(file1_1[2] == 32) &\n",
    "                 (file1_1[1] == 256) & \n",
    "                 (file1_1[0] == 8)]\n",
    "# 1  1  -1\n",
    "str4 = file3_2[(file1_1[2] == 32) &\n",
    "                 (file1_1[1] == 256) & \n",
    "                 (file1_1[0] == 8)]\n",
    "\n",
    "# -1 -1 1\n",
    "str5 = file1_1[(file1_1[2] == 32) &\n",
    "                 (file1_1[1] == 256) & \n",
    "                 (file1_1[0] == 32)]\n",
    "# 1 -1  1\n",
    "str6 = file1_2[(file1_1[2] == 32) &\n",
    "                 (file1_1[1] == 256) & \n",
    "                 (file1_1[0] == 32)]\n",
    "\n",
    "# -1  1 1\n",
    "str7 = file3_1[(file1_1[2] == 32) &\n",
    "                 (file1_1[1] == 256) & \n",
    "                 (file1_1[0] == 32)]\n",
    "\n",
    "# 1 1 1\n",
    "str8 = file3_2[(file1_1[2] == 32) &\n",
    "                 (file1_1[1] == 256) & \n",
    "                 (file1_1[0] == 32)]\n",
    "\n",
    "print(str1)"
   ]
  },
  {
   "cell_type": "code",
   "execution_count": 18,
   "metadata": {},
   "outputs": [
    {
     "name": "stdout",
     "output_type": "stream",
     "text": [
      "(8,)\n",
      "(8,)\n"
     ]
    },
    {
     "data": {
      "image/png": "[encoded data removed]",
      "text/plain": [
       "<Figure size 576x360 with 1 Axes>"
      ]
     },
     "metadata": {
      "needs_background": "light"
     },
     "output_type": "display_data"
    }
   ],
   "source": [
    "import numpy as np\n",
    "import matplotlib.pyplot as plt\n",
    "\n",
    "x1 = np.array([float(str1[4]), float(str2[4]), float(str3[4]), float(str4[4]), \n",
    "     float(str5[4]), float(str6[4]), float(str7[4]), float(str8[4])])\n",
    "x2 = np.array([float(str1[5]), float(str2[5]), float(str3[5]), float(str4[5]), \n",
    "     float(str5[5]), float(str6[5]), float(str7[5]), float(str8[5])])\n",
    "x3 = np.array([float(str1[6]), float(str2[6]), float(str3[6]), float(str4[6]), \n",
    "     float(str5[6]), float(str6[6]), float(str7[6]), float(str8[6])])\n",
    "\n",
    "y = np.array([y0, y1, y2, y3, y4, y5, y6, y7])\n",
    "print(y.shape)\n",
    "print(x1.shape)\n",
    "\n",
    "# Plot\n",
    "plt.figure(figsize=(8, 5))\n",
    "plt.scatter(y, x1)\n",
    "plt.scatter(y, x2)\n",
    "plt.scatter(y, x3)\n",
    "plt.title('Residuals versus throughput values')\n",
    "plt.tight_layout(0)\n",
    "plt.xlabel('Residuals')\n",
    "plt.ylabel('Predicted throughput')\n",
    "plt.savefig(\"multiplicative_residuals_response.pdf\")\n",
    "\n",
    "plt.show()"
   ]
  },
  {
   "cell_type": "code",
   "execution_count": 19,
   "metadata": {},
   "outputs": [
    {
     "name": "stdout",
     "output_type": "stream",
     "text": [
      "[-0.00646271 -0.00357755 -0.00211285 -0.00167074 -0.0015578  -0.00128496\n",
      " -0.00112921 -0.00112161 -0.00086107 -0.0007818  -0.00033961  0.00042506\n",
      "  0.00054262  0.00055988  0.00056933  0.00077485  0.00078296  0.0008599\n",
      "  0.00146121  0.00245254  0.00283435  0.00297392  0.00303493  0.00362836]\n"
     ]
    },
    {
     "data": {
      "image/png": "[encoded data removed]",
      "text/plain": [
       "<Figure size 576x360 with 1 Axes>"
      ]
     },
     "metadata": {
      "needs_background": "light"
     },
     "output_type": "display_data"
    }
   ],
   "source": [
    "x = np.concatenate((x1, x2, x3), axis=None)\n",
    "x = np.sort(x, axis=None)  \n",
    "print(x)\n",
    "import pylab \n",
    "import scipy.stats as stats\n",
    "\n",
    "pylab.figure(figsize=(8, 5))\n",
    "stats.probplot(x, dist=\"norm\", plot=pylab)\n",
    "pylab.title(\"Normal quantile-quantile plot for throughput\")\n",
    "pylab.xlabel(\"Residual quantile\")\n",
    "pylab.ylabel(\"Normal quantile\")\n",
    "pylab.tight_layout(0)\n",
    "pylab.savefig(\"multiplicative_quantile_response.pdf\")\n",
    "pylab.show()"
   ]
  },
  {
   "cell_type": "code",
   "execution_count": null,
   "metadata": {},
   "outputs": [],
   "source": []
  }
 ],
 "metadata": {
  "kernelspec": {
   "display_name": "Python 3",
   "language": "python",
   "name": "python3"
  },
  "language_info": {
   "codemirror_mode": {
    "name": "ipython",
    "version": 3
   },
   "file_extension": ".py",
   "mimetype": "text/x-python",
   "name": "python",
   "nbconvert_exporter": "python",
   "pygments_lexer": "ipython3",
   "version": "3.5.2"
  }
 },
 "nbformat": 4,
 "nbformat_minor": 2
}
